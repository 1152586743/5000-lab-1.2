{
 "cells": [
  {
   "cell_type": "markdown",
   "metadata": {},
   "source": [
    "---\n",
    "title: \"Hobby\"\n",
    "format: revealjs\n",
    "bibliography: reference.bib\n",
    "---\n",
    "\n",
    "## hello world\n",
    "@ar\n",
    "[@soeters2006military]\n",
    "\n",
    "## welcome\n",
    "![Image 1](my_image.png)\n",
    "Caption for Image 1.\n",
    "\n",
    "## THIS it best"
   ]
  },
  {
   "cell_type": "code",
   "execution_count": null,
   "metadata": {},
   "outputs": [],
   "source": [
    "#| echo: true\n",
    "#| code-fold: true\n",
    "# hello world\n",
    "print(\"hello world\")"
   ]
  }
 ],
 "metadata": {
  "kernelspec": {
   "display_name": "Python 3",
   "language": "python",
   "name": "python3"
  },
  "language_info": {
   "codemirror_mode": {
    "name": "ipython",
    "version": 3
   },
   "file_extension": ".py",
   "mimetype": "text/x-python",
   "name": "python",
   "nbconvert_exporter": "python",
   "pygments_lexer": "ipython3",
   "version": "3.10.2"
  },
  "orig_nbformat": 4
 },
 "nbformat": 4,
 "nbformat_minor": 2
}
