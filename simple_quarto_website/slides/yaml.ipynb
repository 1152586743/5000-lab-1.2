{
 "cells": [
  {
   "cell_type": "code",
   "execution_count": null,
   "metadata": {},
   "outputs": [],
   "source": []
  },
  {
   "cell_type": "markdown",
   "metadata": {},
   "source": [
    "---\n",
    "title: \"My Presentation\"\n",
    "author: \"Yian Hu\"\n",
    "date: \"2023-09-13\"\n",
    "format: revealjs\n",
    "reveal:\n",
    "  theme: \"white\"  \n",
    "  transition: \"slide\"  \n",
    "  controls: true  \n",
    "bibliography: reference.bib  \n",
    "---"
   ]
  },
  {
   "cell_type": "markdown",
   "metadata": {},
   "source": []
  },
  {
   "cell_type": "markdown",
   "metadata": {},
   "source": [
    "slides/slides.ipynb##\n",
    "\n",
    "## Slide 1\n",
    "\n",
    "This is the content of slide 1.\n",
    "\n",
    "## Slide 2\n",
    "\n",
    "This is the content of slide 2.\n",
    "\n",
    "slides/slides.ipynb##"
   ]
  }
 ],
 "metadata": {
  "language_info": {
   "name": "python"
  },
  "orig_nbformat": 4
 },
 "nbformat": 4,
 "nbformat_minor": 2
}
